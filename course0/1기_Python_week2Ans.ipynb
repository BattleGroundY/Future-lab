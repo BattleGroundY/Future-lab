{
 "cells": [
  {
   "cell_type": "markdown",
   "metadata": {},
   "source": [
    "# 미래연구소 1기\n",
    "## Python Basic"
   ]
  },
  {
   "cell_type": "markdown",
   "metadata": {},
   "source": [
    "-------------------------------------------------------------------------------------------------------"
   ]
  },
  {
   "cell_type": "markdown",
   "metadata": {},
   "source": [
    "# ● 조건문"
   ]
  },
  {
   "cell_type": "markdown",
   "metadata": {},
   "source": [
    "## If"
   ]
  },
  {
   "cell_type": "code",
   "execution_count": 5,
   "metadata": {},
   "outputs": [
    {
     "name": "stdout",
     "output_type": "stream",
     "text": [
      "It's True\n",
      "Or\n",
      "Not\n"
     ]
    }
   ],
   "source": [
    "if 1 == 1:\n",
    "    print(\"It's True\")\n",
    "    \n",
    "if 1 == 1 and 1 == 2:\n",
    "    print(\"And\")\n",
    "    \n",
    "if 1 == 1 or 1 == 2:\n",
    "    print(\"Or\")\n",
    "    \n",
    "if not 1 == 2:\n",
    "    print(\"Not\")"
   ]
  },
  {
   "cell_type": "markdown",
   "metadata": {},
   "source": [
    "## else"
   ]
  },
  {
   "cell_type": "code",
   "execution_count": 8,
   "metadata": {},
   "outputs": [
    {
     "name": "stdout",
     "output_type": "stream",
     "text": [
      "10\n"
     ]
    }
   ],
   "source": [
    "x = 10\n",
    "if x > 9:\n",
    "    print(x)\n",
    "else:\n",
    "    print(\"x is so small.\")"
   ]
  },
  {
   "cell_type": "markdown",
   "metadata": {},
   "source": [
    "## else if"
   ]
  },
  {
   "cell_type": "code",
   "execution_count": 11,
   "metadata": {},
   "outputs": [
    {
     "name": "stdout",
     "output_type": "stream",
     "text": [
      "x is small.\n"
     ]
    }
   ],
   "source": [
    "x = 4\n",
    "if x > 9:\n",
    "    print(x)\n",
    "else:\n",
    "    if x > 3:\n",
    "        print(\"x is small.\")\n",
    "    else:\n",
    "        print(\"x is very small.\")"
   ]
  },
  {
   "cell_type": "markdown",
   "metadata": {},
   "source": [
    "## elif"
   ]
  },
  {
   "cell_type": "code",
   "execution_count": 13,
   "metadata": {},
   "outputs": [
    {
     "name": "stdout",
     "output_type": "stream",
     "text": [
      "x is negative.\n"
     ]
    }
   ],
   "source": [
    "x = -1\n",
    "if x > 9:\n",
    "    print(x)\n",
    "elif x > 3:\n",
    "    print(\"x is small.\")\n",
    "elif x >= 0:\n",
    "    print(\"x is very small.\")\n",
    "elif x < 0:\n",
    "    print(\"x is negative.\")"
   ]
  },
  {
   "cell_type": "markdown",
   "metadata": {},
   "source": [
    "## numguess"
   ]
  },
  {
   "cell_type": "code",
   "execution_count": 17,
   "metadata": {},
   "outputs": [
    {
     "name": "stdout",
     "output_type": "stream",
     "text": [
      "85\n"
     ]
    }
   ],
   "source": [
    "import random\n",
    "\n",
    "answer = random.randint(1, 100)\n",
    "print(answer)"
   ]
  },
  {
   "cell_type": "markdown",
   "metadata": {},
   "source": [
    "## numguess"
   ]
  },
  {
   "cell_type": "code",
   "execution_count": 18,
   "metadata": {},
   "outputs": [
    {
     "name": "stdout",
     "output_type": "stream",
     "text": [
      "Hi there, What's your name??BG\n",
      "Hi, BGguess the number: 22\n",
      "Thats not what i wnated!! The answer was  85\n"
     ]
    }
   ],
   "source": [
    "username = input(\"Hi there, What's your name??\")\n",
    "guess = eval(input(\"Hi, \" + username + \"guess the number: \"))\n",
    "\n",
    "if guess == answer:\n",
    "    print(\"Correct! The answer was \", str(answer))\n",
    "else:\n",
    "    print(\"Thats not what i wnated!! The answer was \", str(answer))"
   ]
  },
  {
   "cell_type": "markdown",
   "metadata": {},
   "source": [
    "# ● 반복문"
   ]
  },
  {
   "cell_type": "code",
   "execution_count": 19,
   "metadata": {},
   "outputs": [
    {
     "name": "stdout",
     "output_type": "stream",
     "text": [
      "python\n",
      "java\n",
      "golang\n"
     ]
    }
   ],
   "source": [
    "for i in [\"python\", \"java\", \"golang\"]:\n",
    "    print(i)"
   ]
  },
  {
   "cell_type": "markdown",
   "metadata": {},
   "source": [
    "## for"
   ]
  },
  {
   "cell_type": "code",
   "execution_count": 20,
   "metadata": {},
   "outputs": [
    {
     "name": "stdout",
     "output_type": "stream",
     "text": [
      "1\n",
      "3\n",
      "6\n",
      "10\n",
      "15\n",
      "21\n",
      "28\n",
      "36\n",
      "45\n",
      "55\n"
     ]
    }
   ],
   "source": [
    "sum = 0\n",
    "for i in range(1, 11):\n",
    "    sum += i\n",
    "    # sum = sum + i\n",
    "    print(sum)"
   ]
  },
  {
   "cell_type": "markdown",
   "metadata": {},
   "source": [
    "## while"
   ]
  },
  {
   "cell_type": "code",
   "execution_count": 30,
   "metadata": {},
   "outputs": [
    {
     "name": "stdout",
     "output_type": "stream",
     "text": [
      "나무를 1 번 찍었습니다.\n",
      "나무를 2 번 찍었습니다.\n",
      "나무를 3 번 찍었습니다.\n",
      "나무를 4 번 찍었습니다.\n",
      "나무를 5 번 찍었습니다.\n",
      "나무를 6 번 찍었습니다.\n",
      "나무를 7 번 찍었습니다.\n",
      "나무를 8 번 찍었습니다.\n",
      "나무를 9 번 찍었습니다.\n",
      "나무를 10 번 찍었습니다.\n",
      "나무 넘어갑니다.\n"
     ]
    }
   ],
   "source": [
    "treeHit = 0\n",
    "while treeHit < 10:\n",
    "    treeHit += 1\n",
    "    print(\"나무를\", treeHit, \"번 찍었습니다.\")\n",
    "    if treeHit == 10:\n",
    "        print(\"나무 넘어갑니다.\")"
   ]
  },
  {
   "cell_type": "code",
   "execution_count": null,
   "metadata": {},
   "outputs": [],
   "source": []
  },
  {
   "cell_type": "code",
   "execution_count": null,
   "metadata": {},
   "outputs": [],
   "source": []
  },
  {
   "cell_type": "code",
   "execution_count": null,
   "metadata": {},
   "outputs": [],
   "source": []
  },
  {
   "cell_type": "code",
   "execution_count": null,
   "metadata": {},
   "outputs": [],
   "source": []
  },
  {
   "cell_type": "markdown",
   "metadata": {},
   "source": [
    "# Codeacademy(optional)\n",
    "\n",
    "## ● https://www.codecademy.com 가입 후\n",
    "\n",
    "## ● Learn Python 코스 선택\n",
    "\n",
    "## ● 3. Conditionals and Control Flow , 5. Lists & Dictionaries 해보기"
   ]
  },
  {
   "cell_type": "code",
   "execution_count": null,
   "metadata": {},
   "outputs": [],
   "source": []
  },
  {
   "cell_type": "code",
   "execution_count": null,
   "metadata": {},
   "outputs": [],
   "source": []
  },
  {
   "cell_type": "code",
   "execution_count": null,
   "metadata": {},
   "outputs": [],
   "source": []
  },
  {
   "cell_type": "code",
   "execution_count": null,
   "metadata": {},
   "outputs": [],
   "source": []
  },
  {
   "cell_type": "markdown",
   "metadata": {},
   "source": [
    "### *참조 : https://github.com/ulgoon"
   ]
  },
  {
   "cell_type": "code",
   "execution_count": null,
   "metadata": {},
   "outputs": [],
   "source": []
  }
 ],
 "metadata": {
  "kernelspec": {
   "display_name": "Python 3",
   "language": "python",
   "name": "python3"
  },
  "language_info": {
   "codemirror_mode": {
    "name": "ipython",
    "version": 3
   },
   "file_extension": ".py",
   "mimetype": "text/x-python",
   "name": "python",
   "nbconvert_exporter": "python",
   "pygments_lexer": "ipython3",
   "version": "3.5.2"
  }
 },
 "nbformat": 4,
 "nbformat_minor": 2
}
